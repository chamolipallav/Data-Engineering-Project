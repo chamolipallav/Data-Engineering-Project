{
 "cells": [
  {
   "cell_type": "markdown",
   "id": "b60bd073",
   "metadata": {},
   "source": [
    "# Creating table with PostgreSQL"
   ]
  },
  {
   "cell_type": "code",
   "execution_count": 2,
   "id": "97f620b7",
   "metadata": {},
   "outputs": [
    {
     "name": "stdout",
     "output_type": "stream",
     "text": [
      "Requirement already satisfied: psycopg2 in ./opt/anaconda3/lib/python3.9/site-packages (2.9.5)\r\n"
     ]
    }
   ],
   "source": [
    "!pip install psycopg2"
   ]
  },
  {
   "cell_type": "markdown",
   "id": "e9d25aa8",
   "metadata": {},
   "source": [
    "# Import the library"
   ]
  },
  {
   "cell_type": "code",
   "execution_count": 4,
   "id": "a9fbc954",
   "metadata": {},
   "outputs": [],
   "source": [
    "import psycopg2"
   ]
  },
  {
   "cell_type": "markdown",
   "id": "6cf7d72b",
   "metadata": {},
   "source": [
    "# Create a connection to the database"
   ]
  },
  {
   "cell_type": "code",
   "execution_count": 5,
   "id": "93b31c7c",
   "metadata": {},
   "outputs": [],
   "source": [
    "try:\n",
    "    conn = psycopg2.connect(\"host=localhost dbname=postgres user=postgres password=pallav\")\n",
    "\n",
    "except psyscopg2.Error as e:\n",
    "    print(\"Error: Could not make connection to the Postgres Database\")\n",
    "    print(e)"
   ]
  },
  {
   "cell_type": "markdown",
   "id": "f8a69f22",
   "metadata": {},
   "source": [
    "# Use the connection top get a cursor that can be used to execute queries"
   ]
  },
  {
   "cell_type": "code",
   "execution_count": 6,
   "id": "dac14cf4",
   "metadata": {},
   "outputs": [],
   "source": [
    "try:\n",
    "    cur = conn.cursor()\n",
    "except psycopg2.Error as e:\n",
    "    print(\"Error: Could not get cursor to the database\")\n",
    "    print(e)"
   ]
  },
  {
   "cell_type": "markdown",
   "id": "d8e99343",
   "metadata": {},
   "source": [
    "# Set automatic commit to be true so that each action is commit conn.commit() after each command."
   ]
  },
  {
   "cell_type": "code",
   "execution_count": 7,
   "id": "7a390adb",
   "metadata": {},
   "outputs": [],
   "source": [
    "conn.set_session(autocommit=True)"
   ]
  },
  {
   "cell_type": "markdown",
   "id": "cfeba880",
   "metadata": {},
   "source": [
    "# Create a database to do the work in"
   ]
  },
  {
   "cell_type": "code",
   "execution_count": 9,
   "id": "5d6faf25",
   "metadata": {},
   "outputs": [
    {
     "name": "stdout",
     "output_type": "stream",
     "text": [
      "database \"myfirstdb\" already exists\n",
      "\n"
     ]
    }
   ],
   "source": [
    "try:\n",
    "    cur.execute(\"create database myfirstdb\")\n",
    "except psycopg2.Error as e:\n",
    "    print(e)"
   ]
  },
  {
   "cell_type": "markdown",
   "id": "7dc027d7",
   "metadata": {},
   "source": [
    "# Add the database name to the connect statement."
   ]
  },
  {
   "cell_type": "code",
   "execution_count": 13,
   "id": "d19bb158",
   "metadata": {},
   "outputs": [],
   "source": [
    "try:\n",
    "    conn.close()\n",
    "except psycopg2.Error as e:\n",
    "    print(e)\n",
    "    \n",
    "try:\n",
    "    conn = psycopg2.connect(\"host=localhost dbname=myfirstdb user=postgres password=pallav\")\n",
    "\n",
    "except psyscopg2.Error as e:\n",
    "    print(\"Error: Could not make connection to the Postgres Database\")\n",
    "    print(e)\n",
    "    \n",
    "try:\n",
    "    curr = conn.cursor()\n",
    "except psycopg2.Error as e:\n",
    "    print(\"Error: Could not get cursor to the database\")\n",
    "    print(e)\n",
    "    \n",
    "conn.set_session(autocommit=True)"
   ]
  },
  {
   "cell_type": "markdown",
   "id": "af12db41",
   "metadata": {},
   "source": [
    "# Create a table for students which includes below columns\n",
    "# student_id, name, age, gender, subject, marks"
   ]
  },
  {
   "cell_type": "code",
   "execution_count": 14,
   "id": "f90072cf",
   "metadata": {},
   "outputs": [],
   "source": [
    "try:\n",
    "    curr.execute(\"CREATE TABLE IF NOT EXISTS students (student_id int, name varchar, age int, gender varchar, subject varchar, marks int);\")\n",
    "except psycopg2.Error as e:\n",
    "    print(\"Error: Issue creating table\")\n",
    "    print(e)"
   ]
  },
  {
   "cell_type": "markdown",
   "id": "252eaa15",
   "metadata": {},
   "source": [
    "# Insert the following details to the table\n",
    "\n",
    "# First Row: 1, \"Raj\", \"23\", \"Male\", \"Python\", 85\n",
    "# Second Row: 2, \"Priya\", \"22\", \"Female\", \"Python\", 86"
   ]
  },
  {
   "cell_type": "code",
   "execution_count": 16,
   "id": "ad764078",
   "metadata": {},
   "outputs": [],
   "source": [
    "try: \n",
    "    curr.execute(\"INSERT INTO students (student_id, name, age, gender, subject, marks) \\\n",
    "                    VALUES (%s, %s, %s, %s, %s, %s)\",\\\n",
    "                (1, \"Raj\", \"23\", \"Male\", \"Python\", 85))\n",
    "except psycopg2.Error as e:\n",
    "    print(\"Error: Inserting Rows\")\n",
    "    print(e)\n",
    "    \n",
    "try: \n",
    "    curr.execute(\"INSERT INTO students (student_id, name, age, gender, subject, marks) \\\n",
    "                    VALUES (%s, %s, %s, %s, %s, %s)\",\\\n",
    "                (2, \"Priya\", \"22\", \"Female\", \"Python\", 86))\n",
    "except psycopg2.Error as e:\n",
    "    print(\"Error: Inserting Rows\")\n",
    "    print(e)"
   ]
  },
  {
   "cell_type": "markdown",
   "id": "0235c7b9",
   "metadata": {},
   "source": [
    "# validate your data that was inserted into the table."
   ]
  },
  {
   "cell_type": "code",
   "execution_count": 18,
   "id": "406919f7",
   "metadata": {},
   "outputs": [
    {
     "name": "stdout",
     "output_type": "stream",
     "text": [
      "(1, 'Raj', 23, 'Male', 'Python', 85)\n",
      "(2, 'Priya', 22, 'Female', 'Python', 86)\n"
     ]
    }
   ],
   "source": [
    "try:\n",
    "    curr.execute(\"SELECT * FROM students;\")\n",
    "except psycopg2.Error as e:\n",
    "    print(\"Error: select\")\n",
    "    print(e)\n",
    "    \n",
    "row = curr.fetchone()\n",
    "while row:\n",
    "    print(row)\n",
    "    row = curr.fetchone()"
   ]
  },
  {
   "cell_type": "markdown",
   "id": "4b83d4e3",
   "metadata": {},
   "source": [
    "# finally close your cursor and connection\n"
   ]
  },
  {
   "cell_type": "code",
   "execution_count": 20,
   "id": "8499746c",
   "metadata": {},
   "outputs": [],
   "source": [
    "curr.close()\n",
    "conn.close()"
   ]
  },
  {
   "cell_type": "code",
   "execution_count": null,
   "id": "2f9930aa",
   "metadata": {},
   "outputs": [],
   "source": []
  }
 ],
 "metadata": {
  "kernelspec": {
   "display_name": "Python 3 (ipykernel)",
   "language": "python",
   "name": "python3"
  },
  "language_info": {
   "codemirror_mode": {
    "name": "ipython",
    "version": 3
   },
   "file_extension": ".py",
   "mimetype": "text/x-python",
   "name": "python",
   "nbconvert_exporter": "python",
   "pygments_lexer": "ipython3",
   "version": "3.9.13"
  }
 },
 "nbformat": 4,
 "nbformat_minor": 5
}
